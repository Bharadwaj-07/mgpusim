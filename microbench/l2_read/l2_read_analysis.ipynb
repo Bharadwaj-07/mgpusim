{
 "cells": [
  {
   "cell_type": "code",
   "execution_count": 92,
   "metadata": {
    "collapsed": true
   },
   "outputs": [],
   "source": [
    "%matplotlib inline\n",
    "import pandas as pd\n",
    "import numpy as np\n",
    "import statsmodels.formula.api as sm\n",
    "import matplotlib.pyplot as plt\n",
    "import seaborn as sns\n",
    "sns.set_style('whitegrid')\n",
    "sns.set_context('paper', font_scale=2.0)"
   ]
  },
  {
   "cell_type": "code",
   "execution_count": 93,
   "metadata": {
    "collapsed": true
   },
   "outputs": [],
   "source": [
    "gpu_data = pd.read_csv('gpu.csv', index_col=0)"
   ]
  },
  {
   "cell_type": "code",
   "execution_count": 94,
   "metadata": {},
   "outputs": [
    {
     "data": {
      "text/plain": [
       "(0.0018, 0.002)"
      ]
     },
     "execution_count": 94,
     "metadata": {},
     "output_type": "execute_result"
    },
    {
     "data": {
      "image/png": "[encoded data removed]",
      "text/plain": [
       "<matplotlib.figure.Figure at 0x7f9d364934d0>"
      ]
     },
     "metadata": {},
     "output_type": "display_data"
    }
   ],
   "source": [
    "lm = sns.lmplot('num_access', 'time', gpu_data)\n",
    "lm.axes[0, 0].set_ylim(1.8e-3, 2e-3)"
   ]
  },
  {
   "cell_type": "code",
   "execution_count": 95,
   "metadata": {},
   "outputs": [
    {
     "data": {
      "text/plain": [
       "Intercept     1.891186e-03\n",
       "num_access    1.437675e-07\n",
       "dtype: float64"
      ]
     },
     "execution_count": 95,
     "metadata": {},
     "output_type": "execute_result"
    }
   ],
   "source": [
    "result = sm.ols(formula=\"time ~ num_access\", data=gpu_data).fit()\n",
    "result.params"
   ]
  },
  {
   "cell_type": "markdown",
   "metadata": {},
   "source": [
    "### Conclusion\n",
    "Each l2 access takes 140 cycle."
   ]
  },
  {
   "cell_type": "code",
   "execution_count": 96,
   "metadata": {},
   "outputs": [
    {
     "data": {
      "text/html": [
       "<div>\n",
       "<style>\n",
       "    .dataframe thead tr:only-child th {\n",
       "        text-align: right;\n",
       "    }\n",
       "\n",
       "    .dataframe thead th {\n",
       "        text-align: left;\n",
       "    }\n",
       "\n",
       "    .dataframe tbody tr th {\n",
       "        vertical-align: top;\n",
       "    }\n",
       "</style>\n",
       "<table border=\"1\" class=\"dataframe\">\n",
       "  <thead>\n",
       "    <tr style=\"text-align: right;\">\n",
       "      <th></th>\n",
       "      <th>benchmark</th>\n",
       "      <th>env</th>\n",
       "      <th>num_access</th>\n",
       "      <th>time</th>\n",
       "    </tr>\n",
       "  </thead>\n",
       "  <tbody>\n",
       "    <tr>\n",
       "      <th>0</th>\n",
       "      <td>l2_read</td>\n",
       "      <td>sim</td>\n",
       "      <td>0</td>\n",
       "      <td>0.001875</td>\n",
       "    </tr>\n",
       "    <tr>\n",
       "      <th>1</th>\n",
       "      <td>l2_read</td>\n",
       "      <td>sim</td>\n",
       "      <td>4</td>\n",
       "      <td>0.001876</td>\n",
       "    </tr>\n",
       "    <tr>\n",
       "      <th>2</th>\n",
       "      <td>l2_read</td>\n",
       "      <td>sim</td>\n",
       "      <td>8</td>\n",
       "      <td>0.001876</td>\n",
       "    </tr>\n",
       "    <tr>\n",
       "      <th>3</th>\n",
       "      <td>l2_read</td>\n",
       "      <td>sim</td>\n",
       "      <td>12</td>\n",
       "      <td>0.001877</td>\n",
       "    </tr>\n",
       "    <tr>\n",
       "      <th>4</th>\n",
       "      <td>l2_read</td>\n",
       "      <td>sim</td>\n",
       "      <td>16</td>\n",
       "      <td>0.001878</td>\n",
       "    </tr>\n",
       "    <tr>\n",
       "      <th>5</th>\n",
       "      <td>l2_read</td>\n",
       "      <td>sim</td>\n",
       "      <td>20</td>\n",
       "      <td>0.001878</td>\n",
       "    </tr>\n",
       "    <tr>\n",
       "      <th>6</th>\n",
       "      <td>l2_read</td>\n",
       "      <td>sim</td>\n",
       "      <td>24</td>\n",
       "      <td>0.001879</td>\n",
       "    </tr>\n",
       "    <tr>\n",
       "      <th>7</th>\n",
       "      <td>l2_read</td>\n",
       "      <td>sim</td>\n",
       "      <td>28</td>\n",
       "      <td>0.001879</td>\n",
       "    </tr>\n",
       "    <tr>\n",
       "      <th>8</th>\n",
       "      <td>l2_read</td>\n",
       "      <td>sim</td>\n",
       "      <td>32</td>\n",
       "      <td>0.001880</td>\n",
       "    </tr>\n",
       "    <tr>\n",
       "      <th>9</th>\n",
       "      <td>l2_read</td>\n",
       "      <td>sim</td>\n",
       "      <td>36</td>\n",
       "      <td>0.001881</td>\n",
       "    </tr>\n",
       "    <tr>\n",
       "      <th>10</th>\n",
       "      <td>l2_read</td>\n",
       "      <td>sim</td>\n",
       "      <td>40</td>\n",
       "      <td>0.001882</td>\n",
       "    </tr>\n",
       "    <tr>\n",
       "      <th>11</th>\n",
       "      <td>l2_read</td>\n",
       "      <td>sim</td>\n",
       "      <td>44</td>\n",
       "      <td>0.001883</td>\n",
       "    </tr>\n",
       "    <tr>\n",
       "      <th>12</th>\n",
       "      <td>l2_read</td>\n",
       "      <td>sim</td>\n",
       "      <td>48</td>\n",
       "      <td>0.001883</td>\n",
       "    </tr>\n",
       "    <tr>\n",
       "      <th>13</th>\n",
       "      <td>l2_read</td>\n",
       "      <td>sim</td>\n",
       "      <td>52</td>\n",
       "      <td>0.001884</td>\n",
       "    </tr>\n",
       "    <tr>\n",
       "      <th>14</th>\n",
       "      <td>l2_read</td>\n",
       "      <td>sim</td>\n",
       "      <td>56</td>\n",
       "      <td>0.001885</td>\n",
       "    </tr>\n",
       "    <tr>\n",
       "      <th>15</th>\n",
       "      <td>l2_read</td>\n",
       "      <td>sim</td>\n",
       "      <td>60</td>\n",
       "      <td>0.001886</td>\n",
       "    </tr>\n",
       "    <tr>\n",
       "      <th>16</th>\n",
       "      <td>l2_read</td>\n",
       "      <td>sim</td>\n",
       "      <td>64</td>\n",
       "      <td>0.001887</td>\n",
       "    </tr>\n",
       "    <tr>\n",
       "      <th>17</th>\n",
       "      <td>l2_read</td>\n",
       "      <td>sim</td>\n",
       "      <td>68</td>\n",
       "      <td>0.001887</td>\n",
       "    </tr>\n",
       "    <tr>\n",
       "      <th>18</th>\n",
       "      <td>l2_read</td>\n",
       "      <td>sim</td>\n",
       "      <td>72</td>\n",
       "      <td>0.001888</td>\n",
       "    </tr>\n",
       "    <tr>\n",
       "      <th>19</th>\n",
       "      <td>l2_read</td>\n",
       "      <td>sim</td>\n",
       "      <td>76</td>\n",
       "      <td>0.001889</td>\n",
       "    </tr>\n",
       "    <tr>\n",
       "      <th>20</th>\n",
       "      <td>l2_read</td>\n",
       "      <td>sim</td>\n",
       "      <td>80</td>\n",
       "      <td>0.001890</td>\n",
       "    </tr>\n",
       "    <tr>\n",
       "      <th>21</th>\n",
       "      <td>l2_read</td>\n",
       "      <td>sim</td>\n",
       "      <td>84</td>\n",
       "      <td>0.001890</td>\n",
       "    </tr>\n",
       "    <tr>\n",
       "      <th>22</th>\n",
       "      <td>l2_read</td>\n",
       "      <td>sim</td>\n",
       "      <td>88</td>\n",
       "      <td>0.001891</td>\n",
       "    </tr>\n",
       "    <tr>\n",
       "      <th>23</th>\n",
       "      <td>l2_read</td>\n",
       "      <td>sim</td>\n",
       "      <td>92</td>\n",
       "      <td>0.001892</td>\n",
       "    </tr>\n",
       "    <tr>\n",
       "      <th>24</th>\n",
       "      <td>l2_read</td>\n",
       "      <td>sim</td>\n",
       "      <td>96</td>\n",
       "      <td>0.001893</td>\n",
       "    </tr>\n",
       "    <tr>\n",
       "      <th>25</th>\n",
       "      <td>l2_read</td>\n",
       "      <td>sim</td>\n",
       "      <td>100</td>\n",
       "      <td>0.001894</td>\n",
       "    </tr>\n",
       "    <tr>\n",
       "      <th>26</th>\n",
       "      <td>l2_read</td>\n",
       "      <td>sim</td>\n",
       "      <td>104</td>\n",
       "      <td>0.001894</td>\n",
       "    </tr>\n",
       "    <tr>\n",
       "      <th>27</th>\n",
       "      <td>l2_read</td>\n",
       "      <td>sim</td>\n",
       "      <td>108</td>\n",
       "      <td>0.001895</td>\n",
       "    </tr>\n",
       "    <tr>\n",
       "      <th>28</th>\n",
       "      <td>l2_read</td>\n",
       "      <td>sim</td>\n",
       "      <td>112</td>\n",
       "      <td>0.001896</td>\n",
       "    </tr>\n",
       "    <tr>\n",
       "      <th>29</th>\n",
       "      <td>l2_read</td>\n",
       "      <td>sim</td>\n",
       "      <td>116</td>\n",
       "      <td>0.001897</td>\n",
       "    </tr>\n",
       "    <tr>\n",
       "      <th>30</th>\n",
       "      <td>l2_read</td>\n",
       "      <td>sim</td>\n",
       "      <td>120</td>\n",
       "      <td>0.001897</td>\n",
       "    </tr>\n",
       "    <tr>\n",
       "      <th>31</th>\n",
       "      <td>l2_read</td>\n",
       "      <td>sim</td>\n",
       "      <td>124</td>\n",
       "      <td>0.001898</td>\n",
       "    </tr>\n",
       "    <tr>\n",
       "      <th>32</th>\n",
       "      <td>l2_read</td>\n",
       "      <td>sim</td>\n",
       "      <td>128</td>\n",
       "      <td>0.001899</td>\n",
       "    </tr>\n",
       "  </tbody>\n",
       "</table>\n",
       "</div>"
      ],
      "text/plain": [
       "   benchmark  env  num_access      time\n",
       "0    l2_read  sim           0  0.001875\n",
       "1    l2_read  sim           4  0.001876\n",
       "2    l2_read  sim           8  0.001876\n",
       "3    l2_read  sim          12  0.001877\n",
       "4    l2_read  sim          16  0.001878\n",
       "5    l2_read  sim          20  0.001878\n",
       "6    l2_read  sim          24  0.001879\n",
       "7    l2_read  sim          28  0.001879\n",
       "8    l2_read  sim          32  0.001880\n",
       "9    l2_read  sim          36  0.001881\n",
       "10   l2_read  sim          40  0.001882\n",
       "11   l2_read  sim          44  0.001883\n",
       "12   l2_read  sim          48  0.001883\n",
       "13   l2_read  sim          52  0.001884\n",
       "14   l2_read  sim          56  0.001885\n",
       "15   l2_read  sim          60  0.001886\n",
       "16   l2_read  sim          64  0.001887\n",
       "17   l2_read  sim          68  0.001887\n",
       "18   l2_read  sim          72  0.001888\n",
       "19   l2_read  sim          76  0.001889\n",
       "20   l2_read  sim          80  0.001890\n",
       "21   l2_read  sim          84  0.001890\n",
       "22   l2_read  sim          88  0.001891\n",
       "23   l2_read  sim          92  0.001892\n",
       "24   l2_read  sim          96  0.001893\n",
       "25   l2_read  sim         100  0.001894\n",
       "26   l2_read  sim         104  0.001894\n",
       "27   l2_read  sim         108  0.001895\n",
       "28   l2_read  sim         112  0.001896\n",
       "29   l2_read  sim         116  0.001897\n",
       "30   l2_read  sim         120  0.001897\n",
       "31   l2_read  sim         124  0.001898\n",
       "32   l2_read  sim         128  0.001899"
      ]
     },
     "execution_count": 96,
     "metadata": {},
     "output_type": "execute_result"
    }
   ],
   "source": [
    "sim_data = pd.read_csv('sim.csv', index_col=0);sim_data"
   ]
  },
  {
   "cell_type": "code",
   "execution_count": 97,
   "metadata": {
    "collapsed": true
   },
   "outputs": [],
   "source": [
    "full_data = gpu_data.append(sim_data, ignore_index=True)"
   ]
  },
  {
   "cell_type": "code",
   "execution_count": 98,
   "metadata": {},
   "outputs": [
    {
     "data": {
      "image/png": "[encoded data removed]",
      "text/plain": [
       "<matplotlib.figure.Figure at 0x7f9d365c9810>"
      ]
     },
     "metadata": {},
     "output_type": "display_data"
    }
   ],
   "source": [
    "lm3 = sns.lmplot('num_access', 'time', full_data, hue='env')\n",
    "lm3.axes[0, 0].set_ylim(1.8e-3, 2.0e-3)\n",
    "plt.savefig('l2_microbenchmark.pdf')"
   ]
  },
  {
   "cell_type": "code",
   "execution_count": 99,
   "metadata": {},
   "outputs": [
    {
     "data": {
      "text/plain": [
       "Intercept     1.874527e-03\n",
       "num_access    1.880960e-07\n",
       "dtype: float64"
      ]
     },
     "execution_count": 99,
     "metadata": {},
     "output_type": "execute_result"
    }
   ],
   "source": [
    "result = sm.ols(formula=\"time ~ num_access\", data=sim_data).fit()\n",
    "result.params"
   ]
  },
  {
   "cell_type": "markdown",
   "metadata": {},
   "source": [
    "### Best configuration\n",
    "\n",
    "DRAM latency 300\n",
    "L2 latency 100 + 3(dir lookup)\n",
    "L1 Latency 1\n"
   ]
  },
  {
   "cell_type": "code",
   "execution_count": null,
   "metadata": {
    "collapsed": true
   },
   "outputs": [],
   "source": []
  }
 ],
 "metadata": {
  "kernelspec": {
   "display_name": "Python 2",
   "language": "python",
   "name": "python2"
  },
  "language_info": {
   "codemirror_mode": {
    "name": "ipython",
    "version": 2
   },
   "file_extension": ".py",
   "mimetype": "text/x-python",
   "name": "python",
   "nbconvert_exporter": "python",
   "pygments_lexer": "ipython2",
   "version": "2.7.13"
  }
 },
 "nbformat": 4,
 "nbformat_minor": 2
}
